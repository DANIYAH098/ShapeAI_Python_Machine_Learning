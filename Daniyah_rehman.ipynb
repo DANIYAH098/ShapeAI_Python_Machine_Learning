{
  "nbformat": 4,
  "nbformat_minor": 0,
  "metadata": {
    "colab": {
      "name": "Daniyah_rehman.ipynb",
      "provenance": [],
      "collapsed_sections": []
    },
    "kernelspec": {
      "name": "python3",
      "display_name": "Python 3"
    },
    "language_info": {
      "name": "python"
    }
  },
  "cells": [
    {
      "cell_type": "code",
      "metadata": {
        "id": "fbM6x4EsKD-q"
      },
      "source": [
        "import numpy as np\n",
        "import pandas as pd\n",
        "import sklearn"
      ],
      "execution_count": null,
      "outputs": []
    },
    {
      "cell_type": "markdown",
      "metadata": {
        "id": "NCPw5jrvRatD"
      },
      "source": [
        "NOW WE WILL LOAD THE DATA THAT WE WILL BE USING TO TRAIN OUR MODEL\n",
        "HERE WE ARE USING boston house.pricing"
      ]
    },
    {
      "cell_type": "code",
      "metadata": {
        "id": "FEFRhKj-Q6cS"
      },
      "source": [
        "from sklearn.datasets import load_boston\n",
        "df = load_boston()"
      ],
      "execution_count": null,
      "outputs": []
    },
    {
      "cell_type": "code",
      "metadata": {
        "id": "rMDiY0_gSjGB"
      },
      "source": [
        "df.keys()     # Returns all the keys of the dataset dictionary"
      ],
      "execution_count": null,
      "outputs": []
    },
    {
      "cell_type": "code",
      "metadata": {
        "id": "fw42kFqlTSdH"
      },
      "source": [
        "print(df.DESCR)   # Info about the dataset"
      ],
      "execution_count": null,
      "outputs": []
    },
    {
      "cell_type": "code",
      "metadata": {
        "id": "49FQb_VbJOXE"
      },
      "source": [
        "print(df.feature_names)    # Info about the datasets"
      ],
      "execution_count": null,
      "outputs": []
    },
    {
      "cell_type": "code",
      "metadata": {
        "id": "GTgoPe8cTllE"
      },
      "source": [
        "print(df.filename)   #Info about the datasets"
      ],
      "execution_count": null,
      "outputs": []
    },
    {
      "cell_type": "code",
      "metadata": {
        "id": "5v9zyyAPJxBt"
      },
      "source": [
        "print(df.target)   #Info about the datasets"
      ],
      "execution_count": null,
      "outputs": []
    },
    {
      "cell_type": "code",
      "metadata": {
        "id": "RlcPQfSAKBO6"
      },
      "source": [
        "print(df.data)"
      ],
      "execution_count": null,
      "outputs": []
    },
    {
      "cell_type": "markdown",
      "metadata": {
        "id": "dViQyiX5V9H7"
      },
      "source": [
        "We convert our dataset into the pandas dataframe , so that it is easier to analyse the data"
      ]
    },
    {
      "cell_type": "code",
      "metadata": {
        "id": "2iyDwRYUULer"
      },
      "source": [
        "boston = pd.DataFrame(df.data, columns=df.feature_names)\n",
        "boston.head()"
      ],
      "execution_count": null,
      "outputs": []
    },
    {
      "cell_type": "markdown",
      "metadata": {
        "id": "GHJ9GhoVUzIW"
      },
      "source": [
        "Adding a new column of target values to the dataframe"
      ]
    },
    {
      "cell_type": "code",
      "metadata": {
        "id": "-2w96xM7UZWs"
      },
      "source": [
        "boston['MEDV'] = df.target\n",
        "boston.head()"
      ],
      "execution_count": null,
      "outputs": []
    },
    {
      "cell_type": "markdown",
      "metadata": {
        "id": "PGQSPmTbXCHk"
      },
      "source": [
        "check if the dataset contains any null value or not"
      ]
    },
    {
      "cell_type": "code",
      "metadata": {
        "id": "lc3iwsu2XLsO"
      },
      "source": [
        "boston.isnull()"
      ],
      "execution_count": null,
      "outputs": []
    },
    {
      "cell_type": "code",
      "metadata": {
        "id": "WIoX92B_Xs_f"
      },
      "source": [
        "boston.isnull().sum ()"
      ],
      "execution_count": null,
      "outputs": []
    },
    {
      "cell_type": "markdown",
      "metadata": {
        "id": "6yfpsA27X7zJ"
      },
      "source": [
        "We  never train the model on all the data that we have , we always make sure to atleast have atest dataset , which is different from the training dataset."
      ]
    },
    {
      "cell_type": "code",
      "metadata": {
        "id": "3lGG59S1Um53"
      },
      "source": [
        "from sklearn.model_selection import train_test_split\n",
        "\n",
        "X = boston.drop('MEDV', axis=1)\n",
        "Y = boston['MEDV']\n",
        "\n",
        "X_train, X_test, Y_train, Y_test = train_test_split(X,Y, test_size=0.15, random_state=5)\n",
        "print(X_train.shape)\n",
        "print(X_test.shape)\n",
        "print(Y_train.shape)\n",
        "print(Y_test.shape)"
      ],
      "execution_count": null,
      "outputs": []
    },
    {
      "cell_type": "code",
      "metadata": {
        "id": "3Axby6JBa3uv"
      },
      "source": [
        "from sklearn.linear_model import LinearRegression\n",
        "from sklearn.metrics import mean_squared_error\n",
        "# splitting the dataset into the train and test ser to make sure the model works well\n"
      ],
      "execution_count": 53,
      "outputs": []
    },
    {
      "cell_type": "code",
      "metadata": {
        "id": "RxUqxlwFcp6y"
      },
      "source": [
        "## FITTING MODEL ON THE TRAINING DATASET \n",
        "\n",
        "lin_model = LinearRegression() \n",
        "lin_model.fit(X_train, Y_train)"
      ],
      "execution_count": null,
      "outputs": []
    },
    {
      "cell_type": "code",
      "metadata": {
        "id": "09ZQ4KzXgFVg"
      },
      "source": [
        " y_train_predict = lin_model.predict(X_train)\n",
        "rmse = (np.sqrt(mean_squared_error(Y_train, y_train_predict)))\n",
        "\n",
        "print(\"The model performance for training set\")\n",
        "print('RMSE is {}'.format (rmse))\n",
        "print(\"\\n\")\n",
        "# on testing set\n",
        "y_test_predict = lin_model.predict(X_test)\n",
        "rmse = (np.sqrt(mean_squared_error(Y_test, y_test_predict)))\n",
        "\n",
        "print(\"The model performance for testing set\")                                 \n",
        "print('RMSE is {}'.format (rmse))\n",
        "\n"
      ],
      "execution_count": null,
      "outputs": []
    }
  ]
}